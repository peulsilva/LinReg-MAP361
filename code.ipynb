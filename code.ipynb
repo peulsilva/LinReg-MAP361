{
 "cells": [
  {
   "cell_type": "code",
   "execution_count": 19,
   "metadata": {},
   "outputs": [],
   "source": [
    "import numpy as np\n",
    "import matplotlib.pyplot as plt\n",
    "import scipy"
   ]
  },
  {
   "cell_type": "code",
   "execution_count": 20,
   "metadata": {},
   "outputs": [],
   "source": [
    "MAX_FLOAT_SIZE = 2e32-1"
   ]
  },
  {
   "attachments": {},
   "cell_type": "markdown",
   "metadata": {},
   "source": [
    "## Objectif\n",
    "\n",
    "Dans ce projet on souhaite mettre en oeuvre une méthode pour estimer les paramètres d’une fonction\n",
    "linéaire. Pour cela on on suppose avoir accès à des observations bruitées de cette fonction. En introduisant un modèle de bruit Gaussien, on étudie les propriétés de cet estimateur. Notamment, on montre\n",
    "la convergence (dans un sens que l’on précisera) de cet estimateur.\n",
    "\n",
    "## Préliminaires\n",
    "\n",
    "Soit $\\beta_0$ , $\\beta_1$ $\\in \\mathbb{R}$. On considère une fonction $Y: [0,1] \\rightarrow{} \\mathbb{R}$ telle que pour tout $x \\in [0,1]$,\n",
    "\n",
    "$$\n",
    "    Y(x) = \\beta_0 + \\beta_1 x\n",
    "$$\n",
    "\n",
    "On suppose que $\\beta_0, \\ \\beta_1$ sont des paramètres inconnus que l’ont souhaite estimer à partir d’observation\n",
    "de la fonction $Y$ en $n$ points distincts $(x_1, \\ \\dots, \\ x_n)$, avec $n \\in \\mathbb{N}$. On supposera que l’on observe la\n",
    "fonction $Y$ en ces points mais que ces observation sont bruitées. En particulier le practicien observe\n",
    "des réalisations de\n",
    "\n",
    "$$\n",
    "    Y_{obs}(x_i) = Y(x_i) + \\epsilon_i , i \\in \\{1, \\ \\dots, \\ n\\},\n",
    "$$\n",
    "\n",
    "où  $(\\epsilon_i)_{i \\in \\mathrm{N}}$ est une suite de variable aléatoire $i.i.d.$ suivant la loi normale centrée de variance $\\sigma^2$ avec $\\sigma >0$."
   ]
  },
  {
   "attachments": {},
   "cell_type": "markdown",
   "metadata": {},
   "source": [
    "## Résolution du problème des moindres carrés\n",
    "\n",
    "**S1.** Proposer et implémenter un algorithme de simulation de $Y_{obs}^{n} := (Y_{obs}(x_1), \\dots, Y_{obs}(x_n))$ lorsque les $(x_1, \\dots, x_n)$ sont choisis de façon uniforme sur $[0,1]$."
   ]
  },
  {
   "cell_type": "code",
   "execution_count": 21,
   "metadata": {},
   "outputs": [],
   "source": [
    "class LinearRegressionSimulator:\n",
    "    def __init__(\n",
    "            self, \n",
    "            beta: np.ndarray, \n",
    "            sigma: float,\n",
    "        ) -> None:\n",
    "        self.__beta = beta\n",
    "\n",
    "        if (sigma < 0):\n",
    "            raise AttributeError(\"sigma must be non negative\")\n",
    "        self.__sigma = sigma\n",
    "        \n",
    "    def simulate(\n",
    "            self,\n",
    "            n_obs : int\n",
    "        ) -> np.ndarray:\n",
    "        epsilon : np.ndarray = np.\\\n",
    "            random\\\n",
    "            .normal(0, self.__sigma, n_obs)\n",
    "        \n",
    "        x = np.array([k for k in np.linspace(0, 1, num= n_obs)])\n",
    "                \n",
    "        x = np.insert(\n",
    "            x.reshape((n_obs, 1)),\n",
    "            0,\n",
    "            1,\n",
    "            axis = 1\n",
    "        )\n",
    "        \n",
    "        return x @ self.__beta + epsilon\n",
    "    \n",
    "    @staticmethod\n",
    "    def get_x(n_obs : int) -> np.ndarray:\n",
    "        return np.array([k for k in np.linspace(0, 1, num= n_obs)])\n",
    "    \n",
    "    \n",
    "    def get_X(self, n_obs : int) -> np.ndarray:\n",
    "        x= self.get_x(n_obs)\n",
    "\n",
    "        X = np.insert(\n",
    "            x.reshape((n_obs, 1)),\n",
    "            0,\n",
    "            1,\n",
    "            axis = 1\n",
    "        )\n",
    "\n",
    "        return X\n",
    "\n",
    "         \n",
    "    def get_y(self, n_obs: int) -> np.ndarray:\n",
    "        x = self.get_x(n_obs)\n",
    "\n",
    "        x = np.insert(\n",
    "            x.reshape((n_obs, 1)),\n",
    "            0,\n",
    "            1,\n",
    "            axis = 1\n",
    "        )\n",
    "\n",
    "        return x @ self.__beta\n",
    "\n"
   ]
  },
  {
   "cell_type": "code",
   "execution_count": 22,
   "metadata": {},
   "outputs": [],
   "source": [
    "# these values are arbitrary\n",
    "beta = np.array([1,2])\n",
    "sigma = 0.1\n",
    "n_obs = 20"
   ]
  },
  {
   "cell_type": "code",
   "execution_count": 23,
   "metadata": {},
   "outputs": [],
   "source": [
    "lin_reg_simulator = LinearRegressionSimulator(\n",
    "    beta,\n",
    "    sigma\n",
    ")"
   ]
  },
  {
   "cell_type": "code",
   "execution_count": 24,
   "metadata": {},
   "outputs": [],
   "source": [
    "x = lin_reg_simulator.get_x(n_obs)\n",
    "y_obs = lin_reg_simulator.simulate(n_obs)"
   ]
  },
  {
   "cell_type": "code",
   "execution_count": 25,
   "metadata": {},
   "outputs": [
    {
     "data": {
      "text/plain": [
       "array([0.        , 0.05263158, 0.10526316, 0.15789474, 0.21052632,\n",
       "       0.26315789, 0.31578947, 0.36842105, 0.42105263, 0.47368421,\n",
       "       0.52631579, 0.57894737, 0.63157895, 0.68421053, 0.73684211,\n",
       "       0.78947368, 0.84210526, 0.89473684, 0.94736842, 1.        ])"
      ]
     },
     "execution_count": 25,
     "metadata": {},
     "output_type": "execute_result"
    }
   ],
   "source": [
    "x"
   ]
  },
  {
   "cell_type": "code",
   "execution_count": 26,
   "metadata": {},
   "outputs": [
    {
     "data": {
      "text/plain": [
       "array([0.93501523, 1.20411608, 1.20055984, 1.37263925, 1.46499067,\n",
       "       1.52966878, 1.63953617, 1.64852714, 1.93476777, 2.05460639,\n",
       "       2.06790218, 2.16728065, 2.02298431, 2.40076255, 2.52632025,\n",
       "       2.73297091, 2.7336153 , 2.90204402, 2.76877853, 3.08981319])"
      ]
     },
     "execution_count": 26,
     "metadata": {},
     "output_type": "execute_result"
    }
   ],
   "source": [
    "y_obs"
   ]
  },
  {
   "cell_type": "code",
   "execution_count": 27,
   "metadata": {},
   "outputs": [
    {
     "data": {
      "text/plain": [
       "<matplotlib.legend.Legend at 0x1d6a1006400>"
      ]
     },
     "execution_count": 27,
     "metadata": {},
     "output_type": "execute_result"
    },
    {
     "data": {
      "image/png": "[encoded data removed]",
      "text/plain": [
       "<Figure size 432x288 with 1 Axes>"
      ]
     },
     "metadata": {
      "needs_background": "light"
     },
     "output_type": "display_data"
    }
   ],
   "source": [
    "plt.plot(\n",
    "    x, \n",
    "    y_obs, \n",
    "    'o',\n",
    "    label = \"Y obs\"\n",
    ")\n",
    "plt.plot(\n",
    "    x, \n",
    "    lin_reg_simulator.get_y(n_obs),\n",
    "    label=\"Y\"\n",
    ")\n",
    "plt.title(f\"Y obs generated from {n_obs} observations\")\n",
    "plt.legend()"
   ]
  },
  {
   "attachments": {},
   "cell_type": "markdown",
   "metadata": {},
   "source": [
    "**T1.** Écrire le problème sous la forme\n",
    "\n",
    "$$\n",
    "    Y^n = X^n \\beta\n",
    "$$\n",
    "\n",
    "où $Y^n = (Y(x_1), \\dots, Y(x_n))^T \\in \\mathbb{R^n}$. On précisera $X^n$ et $\\beta$."
   ]
  },
  {
   "attachments": {},
   "cell_type": "markdown",
   "metadata": {},
   "source": [
    "Comme on a déjà fait dans l'exercice **S1**, il suffit de prendre : \n",
    "\n",
    "$$\n",
    "    X^n = \n",
    "        \\begin{pmatrix}\n",
    "            1 & x_1\\\\\n",
    "            1 & x_2 \\\\\n",
    "            \\vdots & \\vdots \\\\\n",
    "            1 & x_n\n",
    "        \\end{pmatrix}, \\\n",
    "\n",
    "    \\beta = \\\n",
    "        \\begin{pmatrix}\n",
    "            \\beta_0 \\\\\n",
    "            \\beta_1\n",
    "        \\end{pmatrix}\n",
    "$$"
   ]
  },
  {
   "attachments": {},
   "cell_type": "markdown",
   "metadata": {},
   "source": [
    "On admet maintenant que $(X^n)^T$ est inversible où $(X^n)^T$ est la transposé de la matrice $(X^n)$. On s'intéresse à l'estimateur des moindres carrés de $\\beta$ que l'on note $\\hat{\\beta}^n$ et qui est défini par \n",
    "\n",
    "$$\n",
    "    \\hat{\\beta^n} := \\underset{\\beta \\in \\mathbb{R^2}}{\\operatorname{arg \\ min}} || Y_{obs}^n - X^n \\beta || ^2\n",
    "$$\n",
    "\n",
    "où $||.||$ est la norme euclidienne dans $\\mathbb{R}^n$. On peut montrer que cette solution maximise la densité de $Y_{obs}^n$.\n",
    "\n",
    "**T2.** Montrer que $\\hat{\\beta}^n = ((X^n)^T X^n)^{-1}(X^n)^T Y_{obs}^n$ "
   ]
  },
  {
   "attachments": {},
   "cell_type": "markdown",
   "metadata": {},
   "source": [
    "On va écrire l'erreur quadratique et, pour simplifier, on va employer la notation $X^n = X$ et $Y_{obs}^n = Y_{obs}$:\n",
    "\n",
    "$$\n",
    "    \\begin{aligned}\n",
    "    E(\\beta) & = || (Y_{obs}- X\\beta) ||^2 \\\\\n",
    "             & = (Y_{obs}- X \\beta)^T(Y_{obs} - X \\beta) \\\\\n",
    "             & = Y_{obs}^T Y_{obs} - 2 Y_{obs}^T X \\beta + \\beta ^T X ^T X \\beta\n",
    "    \\end{aligned}\n",
    "$$\n",
    "\n",
    "Il faut que $\\frac{d E(\\beta)}{d \\beta} = 0$. Alors, on a:\n",
    "\n",
    "$$\n",
    "    2 \\beta^T X^T X - 2 Y_{obs}^T X = 0 \\\\\n",
    "\n",
    "    \\beta ^T X^T X = Y_{obs}^T X \\\\\n",
    "\n",
    "    X^T X \\beta = X^T Y_{obs}\n",
    "$$\n",
    "\n",
    "Donc on trouve le résultat:\n",
    "\n",
    "$$\n",
    "    \\hat{\\beta}^n = (X^T X)^{-1} X^T Y_{obs}\n",
    "$$"
   ]
  },
  {
   "attachments": {},
   "cell_type": "markdown",
   "metadata": {},
   "source": [
    "**T3** Quelle est la loi de $\\hat{\\beta}^n$? En déduire que $\\mathbb{E}[\\hat{\\beta^n}] = \\beta$. On dit que l'estimateur $\\hat{\\beta}^n$ est non biaisé."
   ]
  },
  {
   "attachments": {},
   "cell_type": "markdown",
   "metadata": {},
   "source": [
    "En sachant que les $(\\varepsilon_i)_{i \\leq n}$ sont *i.i.d*, le vecteur d'erreurs $\\varepsilon = (\\varepsilon_i)_{i \\leq n}$ une loi normale de moyenne $0_{n}$ et matrice de covariance $\\sigma^2 I_{n}$\n",
    "\n",
    "$$\n",
    "    \\varepsilon \\sim \\mathcal{N}(0_{n}, \\ \\sigma^2 I_{n})  \\\\\n",
    "\n",
    "    Y_{obs} = X \\beta + \\varepsilon \\Rightarrow \n",
    "\n",
    "    Y_{obs} \\sim \\mathcal{N}(X \\beta, \\sigma^2 I_{n})\n",
    "$$\n",
    "\n",
    "Alors:\n",
    "\n",
    "$$\n",
    "    \\hat{\\beta} = (X^T X)^{-1} X^T Y_{obs} \\Rightarrow \\hat{\\beta} \\sim \\mathcal{N} (A X\\beta, \\sigma^2 A A^T)\n",
    "$$\n",
    "\n",
    "où $A = (X^T X)^{-1} X^T$. On sait que \n",
    "$$\n",
    "\\begin{aligned}\n",
    "    AX & = (X^T X)^{-1} X^T X \\\\\n",
    "       & = I_{n}\n",
    "\\end{aligned}\n",
    "$$\n",
    "\n",
    "et \n",
    "\n",
    "$$\n",
    "\\begin{aligned}\n",
    "    A A^T & = (X^T X)^{-1}X^T X (X^T X)^{-1} \\\\\n",
    "          & = (X^T X)^{-1}\n",
    "\\end{aligned}\n",
    "$$\n",
    "\n",
    "Alors, on conclut que $ \\hat{\\beta} \\sim \\mathcal{N} (\\beta, \\sigma^2 (X^T X)^{-1}) $"
   ]
  },
  {
   "attachments": {},
   "cell_type": "markdown",
   "metadata": {},
   "source": [
    "**T4** Montrer que $\\frac{1}{\\sigma} (\\hat{\\beta^n} - \\beta)^T((X^n)^T X^n) (\\hat{\\beta}^n -\\beta)$ suit une loi $\\chi _2^2$ (chi2 à 2 d'grés de libertés). On note $q^{\\chi _2^2}(r)$ le quantile de la loi du $\\chi _2 ^2$ à l'ordre $r$ et pour $\\alpha \\in [0,1]$, on définit:\n",
    "\n",
    "\n",
    "$$\n",
    "    \\varepsilon_{\\alpha, n} \\vcentcolon= \\left\\{  \\tilde{\\beta} \\in \\mathbb{R}^2  \\frac{1}{\\sigma} (\\hat{\\beta^n} - \\beta)^T((X^n)^T X^n) (\\hat{\\beta}^n -\\beta) \\leq q^{\\chi _2 ^2} (1- \\alpha) \\right\\}\n",
    "$$\n",
    "\n",
    "Montrer que $\\mathbb{P} ( \\beta \\in \\varepsilon_{\\alpha, n}) = 1- \\alpha$. On appelle $\\varepsilon_{\\alpha, n}$ l'ellipsoîde de confiance à l'ordre $\\alpha$"
   ]
  },
  {
   "attachments": {},
   "cell_type": "markdown",
   "metadata": {},
   "source": [
    "On peut écrire l'expression comme:\n",
    "\n",
    "$$\n",
    "    \\frac{1}{\\sigma} (X \\hat{\\beta} - X \\beta)^T(X \\hat{\\beta} - X \\beta)\n",
    "$$\n",
    "\n",
    "Ce qui est égal à:\n",
    "\n",
    "$$\n",
    "    \\frac{1}{\\sigma} \\left| X \\hat{\\beta} - X \\beta \\right| ^2\n",
    "$$\n",
    "\n",
    "On va appeller $\\hat{Y} = X \\hat{\\beta}$, qui est un estimateur de $Y = X \\beta$ avec erreur minimisé. Alors l'expression est donnée en fonction de la somme du carré des erreurs:\n",
    "\n",
    "$$\n",
    "    \\frac{1}{\\sigma} \\left| \\hat{Y} - Y \\right| ^2 = \\frac{1}{\\sigma} \\sum _{i=1}^n \\varepsilon _i ^2\n",
    "$$\n",
    "\n",
    "<span style=\"color:red\">continuar</span>\n",
    "\n",
    "Par définition, la fonction quantile est l'inverse de la fonction de repartition. Alors $\\mathbb{P}(\\beta \\in \\varepsilon_{\\alpha, n}) = \\mathbb{P} (M \\leq q^{\\chi_2^2} (1-\\alpha))$, où $M$ est une v.a. telle que $M \\sim \\chi_2^2$. Ainsi, $\\mathbb{P}(\\beta \\in \\varepsilon_{\\alpha, n}) = 1- \\alpha $"
   ]
  },
  {
   "attachments": {},
   "cell_type": "markdown",
   "metadata": {},
   "source": [
    "**S2.** Proposer et implémenter un algorithme pour représenter l'ellipsoide de confiance et pour la verification du résultat précédent pour $\\alpha = 5%$, $\\sigma = 0.1$ et $\\beta = (0,1), (1,0), (1,2)$. Réitérer l'experience en faisant varier le nombre de points d'observation $n$. Que constatez vous?"
   ]
  },
  {
   "cell_type": "code",
   "execution_count": 42,
   "metadata": {},
   "outputs": [],
   "source": [
    "class LinearRegression:\n",
    "    def __init__(self) -> None:\n",
    "        self.coef_ = None\n",
    "\n",
    "    def fit(\n",
    "        self, \n",
    "        X : np.ndarray, \n",
    "        y : np.ndarray\n",
    "    ):\n",
    "        self.coef_ = np.linalg.inv(X.T @ X) @ X.T @ y\n",
    "\n",
    "    def predict(\n",
    "        self,\n",
    "        X: np.ndarray\n",
    "    )-> np.ndarray:\n",
    "        \n",
    "        if self.coef_ is None:\n",
    "            raise ValueError(\"You must run LinearRegression.fit before predicting\")\n",
    "        return X @ self.coef_\n"
   ]
  },
  {
   "cell_type": "code",
   "execution_count": 29,
   "metadata": {},
   "outputs": [
    {
     "data": {
      "text/plain": [
       "array([0.93501523, 1.20411608, 1.20055984, 1.37263925, 1.46499067,\n",
       "       1.52966878, 1.63953617, 1.64852714, 1.93476777, 2.05460639,\n",
       "       2.06790218, 2.16728065, 2.02298431, 2.40076255, 2.52632025,\n",
       "       2.73297091, 2.7336153 , 2.90204402, 2.76877853, 3.08981319])"
      ]
     },
     "execution_count": 29,
     "metadata": {},
     "output_type": "execute_result"
    }
   ],
   "source": [
    "y_obs"
   ]
  },
  {
   "cell_type": "code",
   "execution_count": 47,
   "metadata": {},
   "outputs": [],
   "source": [
    "beta = np.array([0,1])\n",
    "sigma = 0.1\n",
    "n_obs = 20\n",
    "lin_reg_simulator = LinearRegressionSimulator(beta, sigma)\n",
    "model = LinearRegression()"
   ]
  },
  {
   "cell_type": "code",
   "execution_count": 48,
   "metadata": {},
   "outputs": [],
   "source": [
    "y_obs = lin_reg_simulator.get_y(n_obs)\n",
    "X = lin_reg_simulator.get_X(n_obs)"
   ]
  },
  {
   "cell_type": "code",
   "execution_count": 49,
   "metadata": {},
   "outputs": [],
   "source": [
    "model.fit(X, y_obs)\n",
    "beta_hat = model.coef_"
   ]
  },
  {
   "cell_type": "code",
   "execution_count": 51,
   "metadata": {},
   "outputs": [
    {
     "data": {
      "text/plain": [
       "(array([0, 1]), array([4.4408921e-16, 1.0000000e+00]))"
      ]
     },
     "execution_count": 51,
     "metadata": {},
     "output_type": "execute_result"
    }
   ],
   "source": [
    "beta, beta_hat"
   ]
  },
  {
   "cell_type": "code",
   "execution_count": 60,
   "metadata": {},
   "outputs": [
    {
     "data": {
      "text/plain": [
       "1.0639242471730755e-29"
      ]
     },
     "execution_count": 60,
     "metadata": {},
     "output_type": "execute_result"
    }
   ],
   "source": [
    "beta_tilde = \n",
    "\n",
    "1/sigma*(beta_hat - beta).T @ (X.T @ X) @ (beta_hat - beta)"
   ]
  },
  {
   "cell_type": "code",
   "execution_count": null,
   "metadata": {},
   "outputs": [],
   "source": []
  }
 ],
 "metadata": {
  "kernelspec": {
   "display_name": "base",
   "language": "python",
   "name": "python3"
  },
  "language_info": {
   "codemirror_mode": {
    "name": "ipython",
    "version": 3
   },
   "file_extension": ".py",
   "mimetype": "text/x-python",
   "name": "python",
   "nbconvert_exporter": "python",
   "pygments_lexer": "ipython3",
   "version": "3.9.12"
  },
  "orig_nbformat": 4
 },
 "nbformat": 4,
 "nbformat_minor": 2
}
