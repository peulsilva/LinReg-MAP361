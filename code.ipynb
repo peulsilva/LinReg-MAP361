{
 "cells": [
  {
   "cell_type": "code",
   "execution_count": 42,
   "metadata": {},
   "outputs": [],
   "source": [
    "import numpy as np\n",
    "import matplotlib.pyplot as plt\n",
    "import scipy"
   ]
  },
  {
   "cell_type": "code",
   "execution_count": 43,
   "metadata": {},
   "outputs": [],
   "source": [
    "MAX_FLOAT_SIZE = 2e32-1"
   ]
  },
  {
   "attachments": {},
   "cell_type": "markdown",
   "metadata": {},
   "source": [
    "## Objectif\n",
    "\n",
    "Dans ce projet on souhaite mettre en oeuvre une méthode pour estimer les paramètres d’une fonction\n",
    "linéaire. Pour cela on on suppose avoir accès à des observations bruitées de cette fonction. En introduisant un modèle de bruit Gaussien, on étudie les propriétés de cet estimateur. Notamment, on montre\n",
    "la convergence (dans un sens que l’on précisera) de cet estimateur.\n",
    "\n",
    "## Préliminaires\n",
    "\n",
    "Soit $\\beta_0$ , $\\beta_1$ $\\in \\mathbb{R}$. On considère une fonction $Y: [0,1] \\rightarrow{} \\mathbb{R}$ telle que pour tout $x \\in [0,1]$,\n",
    "\n",
    "$$\n",
    "    Y(x) = \\beta_0 + \\beta_1 x\n",
    "$$\n",
    "\n",
    "On suppose que $\\beta_0, \\ \\beta_1$ sont des paramètres inconnus que l’ont souhaite estimer à partir d’observation\n",
    "de la fonction $Y$ en $n$ points distincts $(x_1, \\ \\dots, \\ x_n)$, avec $n \\in \\mathbb{N}$. On supposera que l’on observe la\n",
    "fonction $Y$ en ces points mais que ces observation sont bruitées. En particulier le practicien observe\n",
    "des réalisations de\n",
    "\n",
    "$$\n",
    "    Y_{obs}(x_i) = Y(x_i) + \\epsilon_i , i \\in \\{1, \\ \\dots, \\ n\\},\n",
    "$$\n",
    "\n",
    "où  $(\\epsilon_i)_{i \\in \\mathrm{N}}$ est une suite de variable aléatoire $i.i.d.$ suivant la loi normale centrée de variance $\\sigma^2$ avec $\\sigma >0$."
   ]
  },
  {
   "attachments": {},
   "cell_type": "markdown",
   "metadata": {},
   "source": [
    "## Résolution du problème des moindres carrés\n",
    "\n",
    "**S1.** Proposer et implémenter un algorithme de simulation de $Y_{obs}^{n} := (Y_{obs}(x_1), \\dots, Y_{obs}(x_n))$ lorsque les $(x_1, \\dots, x_n)$ sont choisis de façon uniforme sur $[0,1]$."
   ]
  },
  {
   "cell_type": "code",
   "execution_count": 73,
   "metadata": {},
   "outputs": [],
   "source": [
    "class LinearRegressionSimulator:\n",
    "    def __init__(\n",
    "            self, \n",
    "            beta: np.ndarray, \n",
    "            sigma: float,\n",
    "        ) -> None:\n",
    "        self.__beta = beta\n",
    "\n",
    "        if (sigma < 0):\n",
    "            raise AttributeError(\"sigma must be non negative\")\n",
    "        self.__sigma = sigma\n",
    "        \n",
    "    def simulate(\n",
    "            self,\n",
    "            n_obs : int\n",
    "        ):\n",
    "        epsilon : np.ndarray = np.\\\n",
    "            random\\\n",
    "            .normal(0, self.__sigma, n_obs)\n",
    "        \n",
    "        x = np.array([k for k in np.linspace(0, 1, num= n_obs)])\n",
    "                \n",
    "        x = np.insert(\n",
    "            x.reshape((n_obs, 1)),\n",
    "            0,\n",
    "            1,\n",
    "            axis = 1\n",
    "        )\n",
    "        \n",
    "        return x @ self.__beta + epsilon\n",
    "    \n",
    "    @staticmethod\n",
    "    def get_x(n_obs : int):\n",
    "        return np.array([k for k in np.linspace(0, 1, num= n_obs)])\n",
    "         \n",
    "    def get_y(self, n_obs: int):\n",
    "        x = self.get_x(n_obs)\n",
    "\n",
    "        x = np.insert(\n",
    "            x.reshape((n_obs, 1)),\n",
    "            0,\n",
    "            1,\n",
    "            axis = 1\n",
    "        )\n",
    "\n",
    "        return x @ self.__beta\n",
    "\n"
   ]
  },
  {
   "cell_type": "code",
   "execution_count": 92,
   "metadata": {},
   "outputs": [],
   "source": [
    "# these values are arbitrary\n",
    "beta = np.array([1,2])\n",
    "sigma = 0.1\n",
    "n_obs = 20"
   ]
  },
  {
   "cell_type": "code",
   "execution_count": 93,
   "metadata": {},
   "outputs": [],
   "source": [
    "lin_reg_simulator = LinearRegressionSimulator(\n",
    "    beta,\n",
    "    sigma\n",
    ")"
   ]
  },
  {
   "cell_type": "code",
   "execution_count": 94,
   "metadata": {},
   "outputs": [],
   "source": [
    "x = lin_reg_simulator.get_x(n_obs)\n",
    "y_obs = lin_reg_simulator.simulate(n_obs)"
   ]
  },
  {
   "cell_type": "code",
   "execution_count": 95,
   "metadata": {},
   "outputs": [
    {
     "data": {
      "text/plain": [
       "array([0.        , 0.05263158, 0.10526316, 0.15789474, 0.21052632,\n",
       "       0.26315789, 0.31578947, 0.36842105, 0.42105263, 0.47368421,\n",
       "       0.52631579, 0.57894737, 0.63157895, 0.68421053, 0.73684211,\n",
       "       0.78947368, 0.84210526, 0.89473684, 0.94736842, 1.        ])"
      ]
     },
     "execution_count": 95,
     "metadata": {},
     "output_type": "execute_result"
    }
   ],
   "source": [
    "x"
   ]
  },
  {
   "cell_type": "code",
   "execution_count": 96,
   "metadata": {},
   "outputs": [
    {
     "data": {
      "text/plain": [
       "array([1.05947629, 0.90301448, 1.33594449, 1.27705248, 1.39692305,\n",
       "       1.66902668, 1.58099528, 1.60078378, 1.97269828, 1.9794493 ,\n",
       "       1.78597903, 2.33780431, 2.24418804, 2.51842697, 2.57875988,\n",
       "       2.61332481, 2.55436954, 2.63528719, 2.92280465, 3.05897938])"
      ]
     },
     "execution_count": 96,
     "metadata": {},
     "output_type": "execute_result"
    }
   ],
   "source": [
    "y_obs"
   ]
  },
  {
   "cell_type": "code",
   "execution_count": 99,
   "metadata": {},
   "outputs": [
    {
     "data": {
      "text/plain": [
       "<matplotlib.legend.Legend at 0x7fb3f4dc2f80>"
      ]
     },
     "execution_count": 99,
     "metadata": {},
     "output_type": "execute_result"
    },
    {
     "data": {
      "image/png": "[encoded data removed]",
      "text/plain": [
       "<Figure size 640x480 with 1 Axes>"
      ]
     },
     "metadata": {},
     "output_type": "display_data"
    }
   ],
   "source": [
    "plt.plot(\n",
    "    x, \n",
    "    y_obs, \n",
    "    'o',\n",
    "    label = \"Y obs\"\n",
    ")\n",
    "plt.plot(\n",
    "    x, \n",
    "    lin_reg_simulator.get_y(n_obs),\n",
    "    label=\"Y\"\n",
    ")\n",
    "plt.title(f\"Y obs generated from {n_obs} observations\")\n",
    "plt.legend()"
   ]
  },
  {
   "attachments": {},
   "cell_type": "markdown",
   "metadata": {},
   "source": [
    "**T1.** Écrire le problème sous la forme\n",
    "\n",
    "$$\n",
    "    Y^n = X^n \\beta\n",
    "$$\n",
    "\n",
    "où $Y^n = (Y(x_1), \\dots, Y(x_n))^T \\in \\mathbb{R^n}$. On précisera $X^n$ et $\\beta$."
   ]
  },
  {
   "attachments": {},
   "cell_type": "markdown",
   "metadata": {},
   "source": [
    "Comme on a déjà fait dans l'exercice **S1**, il suffit de prendre : \n",
    "\n",
    "$$\n",
    "    X^n = \n",
    "        \\begin{pmatrix}\n",
    "            1 & x_1\\\\\n",
    "            1 & x_2 \\\\\n",
    "            \\vdots & \\vdots \\\\\n",
    "            1 & x_n\n",
    "        \\end{pmatrix}, \\\n",
    "\n",
    "    \\beta = \\\n",
    "        \\begin{pmatrix}\n",
    "            \\beta_0 \\\\\n",
    "            \\beta_1\n",
    "        \\end{pmatrix}\n",
    "$$"
   ]
  },
  {
   "attachments": {},
   "cell_type": "markdown",
   "metadata": {},
   "source": [
    "On admet maintenant que $(X^n)^T$ est inversible où $(X^n)^T$ est la transposé de la matrice $(X^n)$. On s'intéresse à l'estimateur des moindres carrés de $\\beta$ que l'on note $\\hat{\\beta}^n$ et qui est défini par \n",
    "\n",
    "$$\n",
    "    \\hat{\\beta^n} := \\underset{\\beta \\in \\mathbb{R^2}}{\\operatorname{arg \\ min}} || Y_{obs}^n - X^n \\beta || ^2\n",
    "$$\n",
    "\n",
    "où $||.||$ est la norme euclidienne dans $\\mathbb{R}^n$. On peut montrer que cette solution maximise la densité de $Y_{obs}^n$.\n",
    "\n",
    "**T2.** Montrer que $\\hat{\\beta}^n = ((X^n)^T X^n)^{-1}(X^n)^T Y_{obs}^n$ "
   ]
  },
  {
   "attachments": {},
   "cell_type": "markdown",
   "metadata": {},
   "source": [
    "On va écrire l'erreur quadratique et, pour simplifier, on va employer la notation $X^n = X$ et $Y_{obs}^n = Y_{obs}$:\n",
    "\n",
    "$$\n",
    "    \\begin{aligned}\n",
    "    E(\\beta) & = || (Y_{obs}- X\\beta) ||^2 \\\\\n",
    "             & = (Y_{obs}- X \\beta)^T(Y_{obs} - X \\beta) \\\\\n",
    "             & = Y_{obs}^T Y_{obs} - 2 Y_{obs}^T X \\beta + \\beta ^T X ^T X \\beta\n",
    "    \\end{aligned}\n",
    "$$\n",
    "\n",
    "Il faut que $\\frac{d E(\\beta)}{d \\beta} = 0$. Alors, on a:\n",
    "\n",
    "$$\n",
    "    2 \\beta^T X^T X - 2 Y_{obs}^T X = 0 \\\\\n",
    "\n",
    "    \\beta ^T X^T X = Y_{obs}^T X \\\\\n",
    "\n",
    "    X^T X \\beta = X^T Y_{obs}\n",
    "$$\n",
    "\n",
    "Donc on trouve le résultat:\n",
    "\n",
    "$$\n",
    "    \\hat{\\beta}^n = (X^T X)^{-1} X^T Y_{obs}\n",
    "$$"
   ]
  },
  {
   "attachments": {},
   "cell_type": "markdown",
   "metadata": {},
   "source": [
    "**T3** Quelle est la loi de $\\hat{\\beta}^n$? En déduire que $\\mathbb{E}[\\hat{\\beta^n}] = \\beta$. On dit que l'estimateur $\\hat{\\beta}^n$ est non biaisé."
   ]
  },
  {
   "attachments": {},
   "cell_type": "markdown",
   "metadata": {},
   "source": [
    "En sachant que les $(\\varepsilon_i)_{i \\leq n}$ sont *i.i.d*, le vecteur d'erreurs $\\varepsilon = (\\varepsilon_i)_{i \\leq n}$ une loi normale de moyenne $0_{n}$ et matrice de covariance $\\sigma^2 I_{n}$\n",
    "\n",
    "$$\n",
    "    \\varepsilon \\sim \\mathcal{N}(0_{n}, \\ \\sigma^2 I_{n})  \\\\\n",
    "\n",
    "    Y_{obs} = X \\beta + \\varepsilon \\Rightarrow \n",
    "\n",
    "    Y_{obs} \\sim \\mathcal{N}(X \\beta, \\sigma^2 I_{n})\n",
    "$$\n",
    "\n",
    "Alors:\n",
    "\n",
    "$$\n",
    "    \\hat{\\beta} = (X^T X)^{-1} X^T Y_{obs} \\Rightarrow \\hat{\\beta} \\sim \\mathcal{N} (A X\\beta, \\sigma^2 A A^T)\n",
    "$$\n",
    "\n",
    "où $A = (X^T X)^{-1} X^T$. On sait que \n",
    "$$\n",
    "\\begin{aligned}\n",
    "    AX & = (X^T X)^{-1} X^T X \\\\\n",
    "       & = I_{n}\n",
    "\\end{aligned}\n",
    "$$\n",
    "\n",
    "et \n",
    "\n",
    "$$\n",
    "\\begin{aligned}\n",
    "    A A^T & = (X^T X)^{-1}X^T X (X^T X)^{-1} \\\\\n",
    "          & = (X^T X)^{-1}\n",
    "\\end{aligned}\n",
    "$$\n",
    "\n",
    "Alors, on conclut que $ \\hat{\\beta} \\sim \\mathcal{N} (\\beta, \\sigma^2 (X^T X)^{-1}) $"
   ]
  },
  {
   "attachments": {},
   "cell_type": "markdown",
   "metadata": {},
   "source": []
  }
 ],
 "metadata": {
  "kernelspec": {
   "display_name": "base",
   "language": "python",
   "name": "python3"
  },
  "language_info": {
   "codemirror_mode": {
    "name": "ipython",
    "version": 3
   },
   "file_extension": ".py",
   "mimetype": "text/x-python",
   "name": "python",
   "nbconvert_exporter": "python",
   "pygments_lexer": "ipython3",
   "version": "3.10.9"
  },
  "orig_nbformat": 4
 },
 "nbformat": 4,
 "nbformat_minor": 2
}
